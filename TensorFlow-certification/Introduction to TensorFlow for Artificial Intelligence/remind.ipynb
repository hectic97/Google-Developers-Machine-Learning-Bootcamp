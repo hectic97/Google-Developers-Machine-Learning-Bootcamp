{
 "cells": [
  {
   "cell_type": "code",
   "execution_count": 1,
   "metadata": {},
   "outputs": [],
   "source": [
    "import tensorflow as tf\n",
    "import numpy as np\n",
    "# from tensorflow import keras"
   ]
  },
  {
   "cell_type": "code",
   "execution_count": 6,
   "metadata": {},
   "outputs": [],
   "source": [
    "mnist = tf.keras.datasets.mnist"
   ]
  },
  {
   "cell_type": "code",
   "execution_count": 28,
   "metadata": {},
   "outputs": [],
   "source": [
    "(x_train, y_train),(x_test, y_test) = mnist.load_data()"
   ]
  },
  {
   "cell_type": "code",
   "execution_count": 29,
   "metadata": {},
   "outputs": [
    {
     "data": {
      "text/plain": [
       "<matplotlib.image.AxesImage at 0x1e1f64210c8>"
      ]
     },
     "execution_count": 29,
     "metadata": {},
     "output_type": "execute_result"
    },
    {
     "data": {
      "image/png": "[encoded data removed]",
      "text/plain": [
       "<Figure size 432x288 with 1 Axes>"
      ]
     },
     "metadata": {
      "needs_background": "light"
     },
     "output_type": "display_data"
    }
   ],
   "source": [
    "import matplotlib.pyplot as plt\n",
    "plt.imshow(x_train[0],cmap='inferno')\n"
   ]
  },
  {
   "cell_type": "code",
   "execution_count": 21,
   "metadata": {},
   "outputs": [
    {
     "data": {
      "image/png": "[encoded data removed]",
      "text/plain": [
       "<Figure size 432x288 with 1 Axes>"
      ]
     },
     "metadata": {
      "needs_background": "light"
     },
     "output_type": "display_data"
    }
   ],
   "source": [
    "plt.hist(x_train[0].reshape(-1))\n",
    "plt.show()"
   ]
  },
  {
   "cell_type": "code",
   "execution_count": 23,
   "metadata": {},
   "outputs": [],
   "source": [
    "x_train =  x_train/255.0\n",
    "x_test = x_test/ 255.0"
   ]
  },
  {
   "cell_type": "code",
   "execution_count": 24,
   "metadata": {},
   "outputs": [],
   "source": [
    "model = tf.keras.Sequential([\n",
    "    tf.keras.layers.Flatten(input_shape=(28,28)),\n",
    "    tf.keras.layers.Dense(256,activation=tf.nn.relu),\n",
    "    tf.keras.layers.Dense(10,activation=tf.nn.softmax)\n",
    "])"
   ]
  },
  {
   "cell_type": "code",
   "execution_count": 25,
   "metadata": {},
   "outputs": [],
   "source": [
    "class customCallback(tf.keras.callbacks.Callback):\n",
    "    def on_epoch_end(self, epoch,logs={}):\n",
    "        print('\\nepoch',epoch)\n",
    "        print('logs:',logs)\n",
    "        if(logs.get('accuracy')>0.99):\n",
    "            print('\\nReached 99% accuracy so cancelling training!')\n",
    "            self.model.stop_training=True\n",
    "callbacks = customCallback()"
   ]
  },
  {
   "cell_type": "code",
   "execution_count": 30,
   "metadata": {},
   "outputs": [
    {
     "name": "stdout",
     "output_type": "stream",
     "text": [
      "Train on 60000 samples\n",
      "Epoch 1/5\n",
      "59584/60000 [============================>.] - ETA: 0s - loss: 2.9315 - accuracy: 0.8862\n",
      "epoch 0\n",
      "logs: {'loss': 2.9152728368329552, 'accuracy': 0.8864}\n",
      "60000/60000 [==============================] - 7s 122us/sample - loss: 2.9153 - accuracy: 0.8864\n",
      "Epoch 2/5\n",
      "59680/60000 [============================>.] - ETA: 0s - loss: 0.3421 - accuracy: 0.9259\n",
      "epoch 1\n",
      "logs: {'loss': 0.34179498748520853, 'accuracy': 0.9260333}\n",
      "60000/60000 [==============================] - 7s 110us/sample - loss: 0.3418 - accuracy: 0.9260\n",
      "Epoch 3/5\n",
      "59840/60000 [============================>.] - ETA: 0s - loss: 0.2855 - accuracy: 0.9345\n",
      "epoch 2\n",
      "logs: {'loss': 0.2858398007664674, 'accuracy': 0.93451667}\n",
      "60000/60000 [==============================] - 7s 111us/sample - loss: 0.2858 - accuracy: 0.9345\n",
      "Epoch 4/5\n",
      "59488/60000 [============================>.] - ETA: 0s - loss: 0.2537 - accuracy: 0.9422\n",
      "epoch 3\n",
      "logs: {'loss': 0.2536999496812001, 'accuracy': 0.9421833}\n",
      "60000/60000 [==============================] - 6s 104us/sample - loss: 0.2537 - accuracy: 0.9422\n",
      "Epoch 5/5\n",
      "59424/60000 [============================>.] - ETA: 0s - loss: 0.2360 - accuracy: 0.9460\n",
      "epoch 4\n",
      "logs: {'loss': 0.2360670616928721, 'accuracy': 0.94593334}\n",
      "60000/60000 [==============================] - 5s 91us/sample - loss: 0.2361 - accuracy: 0.9459\n"
     ]
    },
    {
     "data": {
      "text/plain": [
       "<tensorflow.python.keras.callbacks.History at 0x1e1f33bd648>"
      ]
     },
     "execution_count": 30,
     "metadata": {},
     "output_type": "execute_result"
    }
   ],
   "source": [
    "model.compile(optimizer=tf.optimizers.Adam(),loss='sparse_categorical_crossentropy',metrics=['accuracy'])\n",
    "model.fit(x_train,y_train,epochs=5,callbacks=[callbacks])\n"
   ]
  },
  {
   "cell_type": "code",
   "execution_count": 32,
   "metadata": {},
   "outputs": [
    {
     "name": "stdout",
     "output_type": "stream",
     "text": [
      "10000/10000 [==============================] - 1s 62us/sample - loss: 0.2726 - accuracy: 0.9413\n"
     ]
    }
   ],
   "source": [
    "history=model.evaluate(x_test,y_test)"
   ]
  },
  {
   "cell_type": "code",
   "execution_count": 34,
   "metadata": {},
   "outputs": [
    {
     "name": "stdout",
     "output_type": "stream",
     "text": [
      "loss: 0.27259028105922045\n",
      "acc: 0.9413\n"
     ]
    }
   ],
   "source": [
    "print('loss:',history[0])\n",
    "print('acc:',history[1])"
   ]
  }
 ],
 "metadata": {
  "kernelspec": {
   "display_name": "Python 3",
   "language": "python",
   "name": "python3"
  },
  "language_info": {
   "codemirror_mode": {
    "name": "ipython",
    "version": 3
   },
   "file_extension": ".py",
   "mimetype": "text/x-python",
   "name": "python",
   "nbconvert_exporter": "python",
   "pygments_lexer": "ipython3",
   "version": "3.7.6"
  }
 },
 "nbformat": 4,
 "nbformat_minor": 4
}
