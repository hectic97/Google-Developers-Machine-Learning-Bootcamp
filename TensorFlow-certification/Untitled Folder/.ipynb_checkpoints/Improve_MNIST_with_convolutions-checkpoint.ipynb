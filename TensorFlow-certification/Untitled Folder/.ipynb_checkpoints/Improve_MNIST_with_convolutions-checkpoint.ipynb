{
 "cells": [
  {
   "cell_type": "code",
   "execution_count": 1,
   "metadata": {},
   "outputs": [],
   "source": [
    "import tensorflow as tf\n",
    "import numpy as np\n",
    "from tensorflow import keras"
   ]
  },
  {
   "cell_type": "code",
   "execution_count": 10,
   "metadata": {},
   "outputs": [],
   "source": [
    "mnist = tf.keras.datasets.mnist\n",
    "(tr_x,tr_y),(te_x,te_y) = mnist.load_data()"
   ]
  },
  {
   "cell_type": "code",
   "execution_count": 11,
   "metadata": {},
   "outputs": [],
   "source": [
    "tr_x = tr_x.reshape(60000,28,28,1)\n",
    "te_x = te_x.reshape(10000,28,28,1)\n",
    "tr_x = tr_x/255.0\n",
    "te_x = te_x/255.0"
   ]
  },
  {
   "cell_type": "code",
   "execution_count": 14,
   "metadata": {},
   "outputs": [],
   "source": [
    "def train_mnist_conv(tr_x,tr_y,te_x,te_y):\n",
    "    class myCallback(tf.keras.callbacks.Callback):\n",
    "        def on_epoch_end(self,epochs,logs={}):\n",
    "            if logs.get('accuracy') > 0.998:\n",
    "                print('\\nReach 99.8% accuracy. STOP TRAINING')\n",
    "                self.mode.stop_training = True\n",
    "    model = tf.keras.models.Sequential([\n",
    "        tf.keras.layers.Conv2D(64, (3,3),input_shape=(28,28,1),activation='relu'),\n",
    "        tf.keras.layers.MaxPooling2D(2,2),\n",
    "        tf.keras.layers.Flatten(),\n",
    "        tf.keras.layers.Dense(128,activation='relu'),\n",
    "        tf.keras.layers.Dense(10,activation='softmax')\n",
    "    ])\n",
    "    cb = myCallback()\n",
    "    model.compile(optimizer='adam',loss = 'sparse_categorical_crossentropy',metrics=['accuracy'])\n",
    "    history = model.fit(tr_x,tr_y,callbacks=[cb],epochs=20)\n",
    "    return history.epoch, history.history['accuracy'][-1],history"
   ]
  },
  {
   "cell_type": "code",
   "execution_count": null,
   "metadata": {},
   "outputs": [
    {
     "name": "stdout",
     "output_type": "stream",
     "text": [
      "Train on 60000 samples\n",
      "Epoch 1/20\n",
      "60000/60000 [==============================] - 66s 1ms/sample - loss: 0.1308 - accuracy: 0.9603\n",
      "Epoch 2/20\n",
      "60000/60000 [==============================] - 65s 1ms/sample - loss: 0.0458 - accuracy: 0.9861\n",
      "Epoch 3/20\n",
      "60000/60000 [==============================] - 67s 1ms/sample - loss: 0.0277 - accuracy: 0.9910\n",
      "Epoch 4/20\n",
      "60000/60000 [==============================] - 74s 1ms/sample - loss: 0.0171 - accuracy: 0.9942\n",
      "Epoch 5/20\n",
      "60000/60000 [==============================] - 72s 1ms/sample - loss: 0.0117 - accuracy: 0.9964\n",
      "Epoch 6/20\n",
      "60000/60000 [==============================] - 74s 1ms/sample - loss: 0.0092 - accuracy: 0.9968\n",
      "Epoch 7/20\n",
      "11552/60000 [====>.........................] - ETA: 1:01 - loss: 0.0027 - accuracy: 0.9993"
     ]
    }
   ],
   "source": [
    "ep,acc,his = train_mnist_conv(tr_x,tr_y,te_x,te_y)"
   ]
  },
  {
   "cell_type": "code",
   "execution_count": null,
   "metadata": {},
   "outputs": [],
   "source": []
  }
 ],
 "metadata": {
  "kernelspec": {
   "display_name": "Python 3",
   "language": "python",
   "name": "python3"
  },
  "language_info": {
   "codemirror_mode": {
    "name": "ipython",
    "version": 3
   },
   "file_extension": ".py",
   "mimetype": "text/x-python",
   "name": "python",
   "nbconvert_exporter": "python",
   "pygments_lexer": "ipython3",
   "version": "3.7.6"
  }
 },
 "nbformat": 4,
 "nbformat_minor": 4
}
