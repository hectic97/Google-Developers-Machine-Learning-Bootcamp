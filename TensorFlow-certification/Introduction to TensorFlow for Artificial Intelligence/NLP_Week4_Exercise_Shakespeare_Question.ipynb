{
  "nbformat": 4,
  "nbformat_minor": 0,
  "metadata": {
    "accelerator": "GPU",
    "colab": {
      "name": "NLP_Week4_Exercise_Shakespeare_Question.ipynb",
      "provenance": [],
      "toc_visible": true
    },
    "kernelspec": {
      "display_name": "Python 3",
      "name": "python3"
    }
  },
  "cells": [
    {
      "cell_type": "code",
      "metadata": {
        "id": "zX4Kg8DUTKWO"
      },
      "source": [
        "#@title Licensed under the Apache License, Version 2.0 (the \"License\");\n",
        "# you may not use this file except in compliance with the License.\n",
        "# You may obtain a copy of the License at\n",
        "#\n",
        "# https://www.apache.org/licenses/LICENSE-2.0\n",
        "#\n",
        "# Unless required by applicable law or agreed to in writing, software\n",
        "# distributed under the License is distributed on an \"AS IS\" BASIS,\n",
        "# WITHOUT WARRANTIES OR CONDITIONS OF ANY KIND, either express or implied.\n",
        "# See the License for the specific language governing permissions and\n",
        "# limitations under the License."
      ],
      "execution_count": null,
      "outputs": []
    },
    {
      "cell_type": "code",
      "metadata": {
        "id": "BOwsuGQQY9OL"
      },
      "source": [
        "from tensorflow.keras.preprocessing.sequence import pad_sequences\n",
        "from tensorflow.keras.layers import Embedding, LSTM, Dense, Dropout, Bidirectional\n",
        "from tensorflow.keras.preprocessing.text import Tokenizer\n",
        "from tensorflow.keras.models import Sequential\n",
        "from tensorflow.keras.optimizers import Adam\n",
        "### YOUR CODE HERE\n",
        "from tensorflow.keras import regularizers\n",
        "# Figure out how to import regularizers\n",
        "###\n",
        "import tensorflow.keras.utils as ku \n",
        "import numpy as np "
      ],
      "execution_count": 2,
      "outputs": []
    },
    {
      "cell_type": "code",
      "metadata": {
        "colab": {
          "base_uri": "https://localhost:8080/"
        },
        "id": "PRnDnCW-Z7qv",
        "outputId": "a759cb2f-2f0c-499f-a9aa-dc18b80b979c"
      },
      "source": [
        "tokenizer = Tokenizer()\n",
        "!wget --no-check-certificate \\\n",
        "    https://storage.googleapis.com/laurencemoroney-blog.appspot.com/sonnets.txt \\\n",
        "    -O /tmp/sonnets.txt\n",
        "data = open('/tmp/sonnets.txt').read()\n",
        "\n",
        "corpus = data.lower().split(\"\\n\")\n",
        "\n",
        "\n",
        "tokenizer.fit_on_texts(corpus)\n",
        "total_words = len(tokenizer.word_index) + 1\n",
        "\n",
        "# create input sequences using list of tokens\n",
        "input_sequences = []\n",
        "for line in corpus:\n",
        "\ttoken_list = tokenizer.texts_to_sequences([line])[0]\n",
        "\tfor i in range(1, len(token_list)):\n",
        "\t\tn_gram_sequence = token_list[:i+1]\n",
        "\t\tinput_sequences.append(n_gram_sequence)\n",
        "\n",
        "\n",
        "# pad sequences \n",
        "max_sequence_len = max([len(x) for x in input_sequences])\n",
        "input_sequences = np.array(pad_sequences(input_sequences, maxlen=max_sequence_len, padding='pre'))\n",
        "\n",
        "# create predictors and label\n",
        "predictors, label = input_sequences[:,:-1],input_sequences[:,-1]\n",
        "\n",
        "label = ku.to_categorical(label, num_classes=total_words)"
      ],
      "execution_count": 4,
      "outputs": [
        {
          "output_type": "stream",
          "text": [
            "--2021-01-09 06:41:33--  https://storage.googleapis.com/laurencemoroney-blog.appspot.com/sonnets.txt\n",
            "Resolving storage.googleapis.com (storage.googleapis.com)... 172.217.13.240, 172.217.15.80, 172.217.2.112, ...\n",
            "Connecting to storage.googleapis.com (storage.googleapis.com)|172.217.13.240|:443... connected.\n",
            "HTTP request sent, awaiting response... 200 OK\n",
            "Length: 93578 (91K) [text/plain]\n",
            "Saving to: ‘/tmp/sonnets.txt’\n",
            "\n",
            "\r/tmp/sonnets.txt      0%[                    ]       0  --.-KB/s               \r/tmp/sonnets.txt    100%[===================>]  91.38K  --.-KB/s    in 0.001s  \n",
            "\n",
            "2021-01-09 06:41:33 (133 MB/s) - ‘/tmp/sonnets.txt’ saved [93578/93578]\n",
            "\n"
          ],
          "name": "stdout"
        }
      ]
    },
    {
      "cell_type": "code",
      "metadata": {
        "colab": {
          "base_uri": "https://localhost:8080/"
        },
        "id": "w9vH8Y59ajYL",
        "outputId": "dcf04b02-2c7a-4191-a582-991b5b48e1fb"
      },
      "source": [
        "import tensorflow as tf\n",
        "model = Sequential()\n",
        "model.add(tf.keras.layers.Embedding(total_words,80,input_length=max_sequence_len-1))\n",
        "model.add(LSTM(64, activation='relu',return_sequences=True))\n",
        "model.add(Dropout(0.1))\n",
        "model.add(LSTM(64,activation='relu'))\n",
        "model.add(Dense(total_words/2,activation='relu',kernel_regularizer=regularizers.l2(0.01)))\n",
        "model.add(Dense(total_words,activation='softmax'))\n",
        "# Pick an optimizer\n",
        "model.compile(loss='categorical_crossentropy',optimizer='adam',metrics=['accuracy'])\n",
        "print(model.summary())\n"
      ],
      "execution_count": 9,
      "outputs": [
        {
          "output_type": "stream",
          "text": [
            "WARNING:tensorflow:Layer lstm_2 will not use cuDNN kernel since it doesn't meet the cuDNN kernel criteria. It will use generic GPU kernel as fallback when running on GPU\n",
            "WARNING:tensorflow:Layer lstm_3 will not use cuDNN kernel since it doesn't meet the cuDNN kernel criteria. It will use generic GPU kernel as fallback when running on GPU\n",
            "Model: \"sequential_3\"\n",
            "_________________________________________________________________\n",
            "Layer (type)                 Output Shape              Param #   \n",
            "=================================================================\n",
            "embedding_2 (Embedding)      (None, 10, 80)            256880    \n",
            "_________________________________________________________________\n",
            "lstm_2 (LSTM)                (None, 10, 64)            37120     \n",
            "_________________________________________________________________\n",
            "dropout_1 (Dropout)          (None, 10, 64)            0         \n",
            "_________________________________________________________________\n",
            "lstm_3 (LSTM)                (None, 64)                33024     \n",
            "_________________________________________________________________\n",
            "dense_2 (Dense)              (None, 1605)              104325    \n",
            "_________________________________________________________________\n",
            "dense_3 (Dense)              (None, 3211)              5156866   \n",
            "=================================================================\n",
            "Total params: 5,588,215\n",
            "Trainable params: 5,588,215\n",
            "Non-trainable params: 0\n",
            "_________________________________________________________________\n",
            "None\n"
          ],
          "name": "stdout"
        }
      ]
    },
    {
      "cell_type": "code",
      "metadata": {
        "colab": {
          "base_uri": "https://localhost:8080/"
        },
        "id": "AIg2f1HBxqof",
        "outputId": "95d15ba6-c16c-417d-c30e-e901e819fd49"
      },
      "source": [
        " history = model.fit(predictors, label, epochs=100, verbose=1)"
      ],
      "execution_count": 10,
      "outputs": [
        {
          "output_type": "stream",
          "text": [
            "Epoch 1/100\n",
            "484/484 [==============================] - 22s 41ms/step - loss: 7.2930 - accuracy: 0.0214\n",
            "Epoch 2/100\n",
            "484/484 [==============================] - 19s 40ms/step - loss: 6.5472 - accuracy: 0.0202\n",
            "Epoch 3/100\n",
            "484/484 [==============================] - 20s 42ms/step - loss: 6.4893 - accuracy: 0.0239\n",
            "Epoch 4/100\n",
            "484/484 [==============================] - 19s 40ms/step - loss: 6.3524 - accuracy: 0.0215\n",
            "Epoch 5/100\n",
            "484/484 [==============================] - 20s 41ms/step - loss: 6.2670 - accuracy: 0.0319\n",
            "Epoch 6/100\n",
            "484/484 [==============================] - 20s 41ms/step - loss: 6.1563 - accuracy: 0.0363\n",
            "Epoch 7/100\n",
            "484/484 [==============================] - 19s 40ms/step - loss: 6.0585 - accuracy: 0.0349\n",
            "Epoch 8/100\n",
            "484/484 [==============================] - 20s 41ms/step - loss: 5.9701 - accuracy: 0.0420\n",
            "Epoch 9/100\n",
            "484/484 [==============================] - 20s 41ms/step - loss: 5.8955 - accuracy: 0.0420\n",
            "Epoch 10/100\n",
            "484/484 [==============================] - 20s 41ms/step - loss: 5.8375 - accuracy: 0.0449\n",
            "Epoch 11/100\n",
            "484/484 [==============================] - 20s 41ms/step - loss: 5.7561 - accuracy: 0.0488\n",
            "Epoch 12/100\n",
            "484/484 [==============================] - 20s 42ms/step - loss: 5.6536 - accuracy: 0.0516\n",
            "Epoch 13/100\n",
            "484/484 [==============================] - 20s 41ms/step - loss: 5.5712 - accuracy: 0.0556\n",
            "Epoch 14/100\n",
            "484/484 [==============================] - 19s 40ms/step - loss: 5.4591 - accuracy: 0.0581\n",
            "Epoch 15/100\n",
            "484/484 [==============================] - 20s 40ms/step - loss: 5.3803 - accuracy: 0.0729\n",
            "Epoch 16/100\n",
            "484/484 [==============================] - 20s 41ms/step - loss: 5.2950 - accuracy: 0.0716\n",
            "Epoch 17/100\n",
            "484/484 [==============================] - 20s 42ms/step - loss: 5.1817 - accuracy: 0.0791\n",
            "Epoch 18/100\n",
            "484/484 [==============================] - 20s 42ms/step - loss: 5.1381 - accuracy: 0.0798\n",
            "Epoch 19/100\n",
            "484/484 [==============================] - 20s 41ms/step - loss: 5.0418 - accuracy: 0.0889\n",
            "Epoch 20/100\n",
            "484/484 [==============================] - 21s 43ms/step - loss: 4.9677 - accuracy: 0.0910\n",
            "Epoch 21/100\n",
            "484/484 [==============================] - 19s 40ms/step - loss: 4.8997 - accuracy: 0.0965\n",
            "Epoch 22/100\n",
            "484/484 [==============================] - 20s 41ms/step - loss: 4.8255 - accuracy: 0.1035\n",
            "Epoch 23/100\n",
            "484/484 [==============================] - 20s 40ms/step - loss: 4.7420 - accuracy: 0.1048\n",
            "Epoch 24/100\n",
            "484/484 [==============================] - 20s 42ms/step - loss: 4.7325 - accuracy: 0.0987\n",
            "Epoch 25/100\n",
            "484/484 [==============================] - 19s 40ms/step - loss: 4.6204 - accuracy: 0.1078\n",
            "Epoch 26/100\n",
            "484/484 [==============================] - 19s 39ms/step - loss: 4.5971 - accuracy: 0.1111\n",
            "Epoch 27/100\n",
            "484/484 [==============================] - 20s 41ms/step - loss: 4.5329 - accuracy: 0.1111\n",
            "Epoch 28/100\n",
            "484/484 [==============================] - 20s 41ms/step - loss: 4.4452 - accuracy: 0.1204\n",
            "Epoch 29/100\n",
            "484/484 [==============================] - 20s 41ms/step - loss: 4.3768 - accuracy: 0.1229\n",
            "Epoch 30/100\n",
            "484/484 [==============================] - 19s 40ms/step - loss: 4.3031 - accuracy: 0.1299\n",
            "Epoch 31/100\n",
            "484/484 [==============================] - 20s 41ms/step - loss: 4.2354 - accuracy: 0.1341\n",
            "Epoch 32/100\n",
            "484/484 [==============================] - 20s 42ms/step - loss: 4.1732 - accuracy: 0.1497\n",
            "Epoch 33/100\n",
            "484/484 [==============================] - 20s 41ms/step - loss: 4.0759 - accuracy: 0.1556\n",
            "Epoch 34/100\n",
            "484/484 [==============================] - 20s 41ms/step - loss: 4.0351 - accuracy: 0.1588\n",
            "Epoch 35/100\n",
            "484/484 [==============================] - 20s 41ms/step - loss: 4.0034 - accuracy: 0.1611\n",
            "Epoch 36/100\n",
            "484/484 [==============================] - 20s 42ms/step - loss: 3.9410 - accuracy: 0.1660\n",
            "Epoch 37/100\n",
            "484/484 [==============================] - 19s 40ms/step - loss: 3.8729 - accuracy: 0.1745\n",
            "Epoch 38/100\n",
            "484/484 [==============================] - 19s 39ms/step - loss: 3.8018 - accuracy: 0.1898\n",
            "Epoch 39/100\n",
            "484/484 [==============================] - 19s 39ms/step - loss: 3.7344 - accuracy: 0.1936\n",
            "Epoch 40/100\n",
            "484/484 [==============================] - 19s 40ms/step - loss: 3.7332 - accuracy: 0.1921\n",
            "Epoch 41/100\n",
            "484/484 [==============================] - 20s 41ms/step - loss: 3.6507 - accuracy: 0.2082\n",
            "Epoch 42/100\n",
            "484/484 [==============================] - 20s 41ms/step - loss: 3.6355 - accuracy: 0.2152\n",
            "Epoch 43/100\n",
            "484/484 [==============================] - 19s 39ms/step - loss: 3.5584 - accuracy: 0.2182\n",
            "Epoch 44/100\n",
            "484/484 [==============================] - 20s 42ms/step - loss: 3.5275 - accuracy: 0.2254\n",
            "Epoch 45/100\n",
            "484/484 [==============================] - 20s 41ms/step - loss: 3.4826 - accuracy: 0.2373\n",
            "Epoch 46/100\n",
            "484/484 [==============================] - 19s 39ms/step - loss: 3.4304 - accuracy: 0.2433\n",
            "Epoch 47/100\n",
            "484/484 [==============================] - 19s 39ms/step - loss: 3.3830 - accuracy: 0.2502\n",
            "Epoch 48/100\n",
            "484/484 [==============================] - 20s 41ms/step - loss: 3.2999 - accuracy: 0.2652\n",
            "Epoch 49/100\n",
            "484/484 [==============================] - 19s 39ms/step - loss: 3.2826 - accuracy: 0.2702\n",
            "Epoch 50/100\n",
            "484/484 [==============================] - 19s 39ms/step - loss: 3.2343 - accuracy: 0.2792\n",
            "Epoch 51/100\n",
            "484/484 [==============================] - 18s 38ms/step - loss: 3.2194 - accuracy: 0.2863\n",
            "Epoch 52/100\n",
            "484/484 [==============================] - 19s 39ms/step - loss: 3.1661 - accuracy: 0.2944\n",
            "Epoch 53/100\n",
            "484/484 [==============================] - 19s 39ms/step - loss: 3.1852 - accuracy: 0.2887\n",
            "Epoch 54/100\n",
            "484/484 [==============================] - 20s 41ms/step - loss: 3.0444 - accuracy: 0.3168\n",
            "Epoch 55/100\n",
            "484/484 [==============================] - 19s 40ms/step - loss: 3.0572 - accuracy: 0.3069\n",
            "Epoch 56/100\n",
            "484/484 [==============================] - 19s 39ms/step - loss: 3.0163 - accuracy: 0.3203\n",
            "Epoch 57/100\n",
            "484/484 [==============================] - 20s 41ms/step - loss: 2.9991 - accuracy: 0.3246\n",
            "Epoch 58/100\n",
            "484/484 [==============================] - 20s 40ms/step - loss: 2.9392 - accuracy: 0.3307\n",
            "Epoch 59/100\n",
            "484/484 [==============================] - 20s 41ms/step - loss: 2.9468 - accuracy: 0.3365\n",
            "Epoch 60/100\n",
            "484/484 [==============================] - 19s 39ms/step - loss: 2.9007 - accuracy: 0.3390\n",
            "Epoch 61/100\n",
            "484/484 [==============================] - 19s 40ms/step - loss: 2.8861 - accuracy: 0.3433\n",
            "Epoch 62/100\n",
            "484/484 [==============================] - 19s 40ms/step - loss: 2.8302 - accuracy: 0.3562\n",
            "Epoch 63/100\n",
            "484/484 [==============================] - 20s 42ms/step - loss: 2.7991 - accuracy: 0.3583\n",
            "Epoch 64/100\n",
            "484/484 [==============================] - 19s 40ms/step - loss: 2.7542 - accuracy: 0.3697\n",
            "Epoch 65/100\n",
            "484/484 [==============================] - 20s 42ms/step - loss: 2.7622 - accuracy: 0.3735\n",
            "Epoch 66/100\n",
            "484/484 [==============================] - 20s 41ms/step - loss: 2.7083 - accuracy: 0.3795\n",
            "Epoch 67/100\n",
            "484/484 [==============================] - 20s 42ms/step - loss: 2.7129 - accuracy: 0.3838\n",
            "Epoch 68/100\n",
            "484/484 [==============================] - 20s 42ms/step - loss: 2.6448 - accuracy: 0.3969\n",
            "Epoch 69/100\n",
            "484/484 [==============================] - 21s 43ms/step - loss: 2.6472 - accuracy: 0.3917\n",
            "Epoch 70/100\n",
            "484/484 [==============================] - 21s 43ms/step - loss: 2.5858 - accuracy: 0.4100\n",
            "Epoch 71/100\n",
            "484/484 [==============================] - 20s 42ms/step - loss: 2.5668 - accuracy: 0.4078\n",
            "Epoch 72/100\n",
            "484/484 [==============================] - 22s 45ms/step - loss: 2.5650 - accuracy: 0.4123\n",
            "Epoch 73/100\n",
            "484/484 [==============================] - 20s 42ms/step - loss: 2.5227 - accuracy: 0.4259\n",
            "Epoch 74/100\n",
            "484/484 [==============================] - 20s 42ms/step - loss: 2.5145 - accuracy: 0.4277\n",
            "Epoch 75/100\n",
            "484/484 [==============================] - 21s 43ms/step - loss: 2.4909 - accuracy: 0.4301\n",
            "Epoch 76/100\n",
            "484/484 [==============================] - 20s 42ms/step - loss: 2.4782 - accuracy: 0.4279\n",
            "Epoch 77/100\n",
            "484/484 [==============================] - 20s 42ms/step - loss: 2.4437 - accuracy: 0.4417\n",
            "Epoch 78/100\n",
            "484/484 [==============================] - 20s 41ms/step - loss: 2.4232 - accuracy: 0.4381\n",
            "Epoch 79/100\n",
            "484/484 [==============================] - 21s 43ms/step - loss: 2.4094 - accuracy: 0.4431\n",
            "Epoch 80/100\n",
            "484/484 [==============================] - 21s 43ms/step - loss: 2.3832 - accuracy: 0.4571\n",
            "Epoch 81/100\n",
            "484/484 [==============================] - 20s 41ms/step - loss: 2.3641 - accuracy: 0.4543\n",
            "Epoch 82/100\n",
            "484/484 [==============================] - 20s 41ms/step - loss: 2.3520 - accuracy: 0.4582\n",
            "Epoch 83/100\n",
            "484/484 [==============================] - 20s 41ms/step - loss: 2.3316 - accuracy: 0.4653\n",
            "Epoch 84/100\n",
            "484/484 [==============================] - 21s 43ms/step - loss: 2.2884 - accuracy: 0.4738\n",
            "Epoch 85/100\n",
            "484/484 [==============================] - 20s 41ms/step - loss: 2.2530 - accuracy: 0.4849\n",
            "Epoch 86/100\n",
            "484/484 [==============================] - 20s 41ms/step - loss: 2.2632 - accuracy: 0.4792\n",
            "Epoch 87/100\n",
            "484/484 [==============================] - 20s 41ms/step - loss: 2.2593 - accuracy: 0.4722\n",
            "Epoch 88/100\n",
            "484/484 [==============================] - 20s 41ms/step - loss: 2.2635 - accuracy: 0.4760\n",
            "Epoch 89/100\n",
            "484/484 [==============================] - 20s 42ms/step - loss: 2.2471 - accuracy: 0.4820\n",
            "Epoch 90/100\n",
            "484/484 [==============================] - 21s 44ms/step - loss: 2.1906 - accuracy: 0.4946\n",
            "Epoch 91/100\n",
            "484/484 [==============================] - 21s 43ms/step - loss: 2.1473 - accuracy: 0.5059\n",
            "Epoch 92/100\n",
            "484/484 [==============================] - 20s 42ms/step - loss: 2.1668 - accuracy: 0.5023\n",
            "Epoch 93/100\n",
            "484/484 [==============================] - 21s 44ms/step - loss: 2.1692 - accuracy: 0.4959\n",
            "Epoch 94/100\n",
            "484/484 [==============================] - 20s 42ms/step - loss: 2.0988 - accuracy: 0.5152\n",
            "Epoch 95/100\n",
            "484/484 [==============================] - 21s 43ms/step - loss: 2.1275 - accuracy: 0.5127\n",
            "Epoch 96/100\n",
            "484/484 [==============================] - 22s 45ms/step - loss: 2.0672 - accuracy: 0.5251\n",
            "Epoch 97/100\n",
            "484/484 [==============================] - 21s 43ms/step - loss: 2.1104 - accuracy: 0.5139\n",
            "Epoch 98/100\n",
            "484/484 [==============================] - 20s 42ms/step - loss: 2.0862 - accuracy: 0.5152\n",
            "Epoch 99/100\n",
            "484/484 [==============================] - 22s 45ms/step - loss: 2.0380 - accuracy: 0.5274\n",
            "Epoch 100/100\n",
            "484/484 [==============================] - 21s 44ms/step - loss: 2.0593 - accuracy: 0.5274\n"
          ],
          "name": "stdout"
        }
      ]
    },
    {
      "cell_type": "code",
      "metadata": {
        "colab": {
          "base_uri": "https://localhost:8080/",
          "height": 545
        },
        "id": "1fXTEO3GJ282",
        "outputId": "00a270cb-19ea-4baf-a3b3-0113cf6aac65"
      },
      "source": [
        "import matplotlib.pyplot as plt\n",
        "acc = history.history['accuracy']\n",
        "loss = history.history['loss']\n",
        "\n",
        "epochs = range(len(acc))\n",
        "\n",
        "plt.plot(epochs, acc, 'b', label='Training accuracy')\n",
        "plt.title('Training accuracy')\n",
        "\n",
        "plt.figure()\n",
        "\n",
        "plt.plot(epochs, loss, 'b', label='Training Loss')\n",
        "plt.title('Training loss')\n",
        "plt.legend()\n",
        "\n",
        "plt.show()"
      ],
      "execution_count": 11,
      "outputs": [
        {
          "output_type": "display_data",
          "data": {
            "image/png": "[encoded data removed]",
            "text/plain": [
              "<Figure size 432x288 with 1 Axes>"
            ]
          },
          "metadata": {
            "tags": [],
            "needs_background": "light"
          }
        },
        {
          "output_type": "display_data",
          "data": {
            "image/png": "[encoded data removed]",
            "text/plain": [
              "<Figure size 432x288 with 1 Axes>"
            ]
          },
          "metadata": {
            "tags": [],
            "needs_background": "light"
          }
        }
      ]
    },
    {
      "cell_type": "code",
      "metadata": {
        "colab": {
          "base_uri": "https://localhost:8080/"
        },
        "id": "6Vc6PHgxa6Hm",
        "outputId": "5fb2dc32-6c6c-480a-efef-53c3efff71ef"
      },
      "source": [
        "seed_text = \"Help me Obi Wan Kenobi, you're my only hope\"\n",
        "next_words = 100\n",
        "  \n",
        "for _ in range(next_words):\n",
        "\ttoken_list = tokenizer.texts_to_sequences([seed_text])[0]\n",
        "\ttoken_list = pad_sequences([token_list], maxlen=max_sequence_len-1, padding='pre')\n",
        "\tpredicted = model.predict_classes(token_list, verbose=0)\n",
        "\toutput_word = \"\"\n",
        "\tfor word, index in tokenizer.word_index.items():\n",
        "\t\tif index == predicted:\n",
        "\t\t\toutput_word = word\n",
        "\t\t\tbreak\n",
        "\tseed_text += \" \" + output_word\n",
        "print(seed_text)"
      ],
      "execution_count": 12,
      "outputs": [
        {
          "output_type": "stream",
          "text": [
            "/usr/local/lib/python3.6/dist-packages/tensorflow/python/keras/engine/sequential.py:450: UserWarning: `model.predict_classes()` is deprecated and will be removed after 2021-01-01. Please use instead:* `np.argmax(model.predict(x), axis=-1)`,   if your model does multi-class classification   (e.g. if it uses a `softmax` last-layer activation).* `(model.predict(x) > 0.5).astype(\"int32\")`,   if your model does binary classification   (e.g. if it uses a `sigmoid` last-layer activation).\n",
            "  warnings.warn('`model.predict_classes()` is deprecated and '\n"
          ],
          "name": "stderr"
        },
        {
          "output_type": "stream",
          "text": [
            "Help me Obi Wan Kenobi, you're my only hope become my verse by day from night days friend ' of ' twain told thou feel'st the pain ' her tell your deeds comment away afloat growing pleasure light of stand pride light in rehearse ill night with day to day ' friend ' small pleasure shown ' ' in mine place one more contain alone i sing ' in your bastard skill survey end ' chide the very same ' praise set it quite asleep veins be lease sweet another shown days ' ' from my store ' gone each shall 'greeing days betray face grow stand ' worn\n"
          ],
          "name": "stdout"
        }
      ]
    },
    {
      "cell_type": "code",
      "metadata": {
        "id": "0bxizrkDANYS"
      },
      "source": [
        ""
      ],
      "execution_count": null,
      "outputs": []
    }
  ]
}