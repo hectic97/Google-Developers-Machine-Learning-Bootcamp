{
  "nbformat": 4,
  "nbformat_minor": 0,
  "metadata": {
    "accelerator": "GPU",
    "colab": {
      "name": "NLP Course - Week 3 Exercise Question.ipynb",
      "provenance": [],
      "toc_visible": true
    },
    "kernelspec": {
      "display_name": "Python 3",
      "name": "python3"
    }
  },
  "cells": [
    {
      "cell_type": "code",
      "metadata": {
        "id": "zX4Kg8DUTKWO"
      },
      "source": [
        "#@title Licensed under the Apache License, Version 2.0 (the \"License\");\n",
        "# you may not use this file except in compliance with the License.\n",
        "# You may obtain a copy of the License at\n",
        "#\n",
        "# https://www.apache.org/licenses/LICENSE-2.0\n",
        "#\n",
        "# Unless required by applicable law or agreed to in writing, software\n",
        "# distributed under the License is distributed on an \"AS IS\" BASIS,\n",
        "# WITHOUT WARRANTIES OR CONDITIONS OF ANY KIND, either express or implied.\n",
        "# See the License for the specific language governing permissions and\n",
        "# limitations under the License."
      ],
      "execution_count": 1,
      "outputs": []
    },
    {
      "cell_type": "code",
      "metadata": {
        "id": "hmA6EzkQJ5jt"
      },
      "source": [
        "import json\n",
        "import tensorflow as tf\n",
        "import csv\n",
        "import random\n",
        "import numpy as np\n",
        "\n",
        "from tensorflow.keras.preprocessing.text import Tokenizer\n",
        "from tensorflow.keras.preprocessing.sequence import pad_sequences\n",
        "from tensorflow.keras.utils import to_categorical\n",
        "from tensorflow.keras import regularizers\n",
        "\n",
        "\n",
        "embedding_dim = 100\n",
        "max_length = 16\n",
        "trunc_type='post'\n",
        "padding_type='post'\n",
        "oov_tok = \"<OOV>\"\n",
        "training_size=160000#Your dataset size here. Experiment using smaller values (i.e. 16000), but don't forget to train on at least 160000 to see the best effects\n",
        "test_portion=.1\n",
        "\n",
        "corpus = []\n"
      ],
      "execution_count": 13,
      "outputs": []
    },
    {
      "cell_type": "code",
      "metadata": {
        "colab": {
          "base_uri": "https://localhost:8080/"
        },
        "id": "bM0l_dORKqE0",
        "outputId": "038b6e43-c5e3-43dc-acf2-bf888f85506e"
      },
      "source": [
        "# Note that I cleaned the Stanford dataset to remove LATIN1 encoding to make it easier for Python CSV reader\n",
        "# You can do that yourself with:\n",
        "# iconv -f LATIN1 -t UTF8 training.1600000.processed.noemoticon.csv -o training_cleaned.csv\n",
        "# I then hosted it on my site to make it easier to use in this notebook\n",
        "\n",
        "!wget --no-check-certificate \\\n",
        "    https://storage.googleapis.com/laurencemoroney-blog.appspot.com/training_cleaned.csv \\\n",
        "    -O /tmp/training_cleaned.csv\n",
        "\n",
        "num_sentences = 0\n",
        "\n",
        "with open(\"/tmp/training_cleaned.csv\") as csvfile:\n",
        "    reader = csv.reader(csvfile, delimiter=',')\n",
        "    for row in reader:\n",
        "      # Your Code here. Create list items where the first item is the text, found in row[5], and the second is the label. Note that the label is a '0' or a '4' in the text. When it's the former, make\n",
        "      # your label to be 0, otherwise 1. Keep a count of the number of sentences in num_sentences\n",
        "        \n",
        "        if row[0] == '0':\n",
        "            label = 0\n",
        "        else:\n",
        "            label = 1\n",
        "        list_item=[row[5],label]\n",
        "        # YOUR CODE HERE\n",
        "\n",
        "        num_sentences = num_sentences + 1\n",
        "        corpus.append(list_item)\n"
      ],
      "execution_count": 14,
      "outputs": [
        {
          "output_type": "stream",
          "text": [
            "--2021-01-09 05:52:21--  https://storage.googleapis.com/laurencemoroney-blog.appspot.com/training_cleaned.csv\n",
            "Resolving storage.googleapis.com (storage.googleapis.com)... 172.217.12.240, 172.217.15.112, 172.253.62.128, ...\n",
            "Connecting to storage.googleapis.com (storage.googleapis.com)|172.217.12.240|:443... connected.\n",
            "HTTP request sent, awaiting response... 200 OK\n",
            "Length: 238942690 (228M) [application/octet-stream]\n",
            "Saving to: ‘/tmp/training_cleaned.csv’\n",
            "\n",
            "/tmp/training_clean 100%[===================>] 227.87M   170MB/s    in 1.3s    \n",
            "\n",
            "2021-01-09 05:52:23 (170 MB/s) - ‘/tmp/training_cleaned.csv’ saved [238942690/238942690]\n",
            "\n"
          ],
          "name": "stdout"
        }
      ]
    },
    {
      "cell_type": "code",
      "metadata": {
        "colab": {
          "base_uri": "https://localhost:8080/"
        },
        "id": "3kxblBUjEUX-",
        "outputId": "1d332d5b-ff0a-455d-90a5-b1b4eab3a9d2"
      },
      "source": [
        "print(num_sentences)\n",
        "print(len(corpus))\n",
        "print(corpus[1])\n",
        "\n",
        "# Expected Output:\n",
        "# 1600000\n",
        "# 1600000\n",
        "# [\"is upset that he can't update his Facebook by texting it... and might cry as a result  School today also. Blah!\", 0]"
      ],
      "execution_count": 15,
      "outputs": [
        {
          "output_type": "stream",
          "text": [
            "1600000\n",
            "1600000\n",
            "[\"is upset that he can't update his Facebook by texting it... and might cry as a result  School today also. Blah!\", 0]\n"
          ],
          "name": "stdout"
        }
      ]
    },
    {
      "cell_type": "code",
      "metadata": {
        "id": "ohOGz24lsNAD"
      },
      "source": [
        "sentences=[]\n",
        "labels=[]\n",
        "random.shuffle(corpus)\n",
        "for x in range(training_size):\n",
        "    sentences.append(corpus[x][0])\n",
        "    labels.append(corpus[x][1])\n",
        "\n",
        "\n",
        "tokenizer = Tokenizer()\n",
        "tokenizer.fit_on_texts(sentences)\n",
        "\n",
        "word_index = tokenizer.word_index\n",
        "vocab_size=len(word_index)\n",
        "\n",
        "sequences = tokenizer.texts_to_sequences(sentences)\n",
        "padded = pad_sequences(sequences,maxlen=max_length,padding=padding_type,truncating=trunc_type)\n",
        "\n",
        "split = int(test_portion * training_size)\n",
        "\n",
        "test_sequences = padded[:split]\n",
        "training_sequences = padded[split:training_size]\n",
        "test_labels = labels[:split]\n",
        "training_labels = labels[split:training_size]"
      ],
      "execution_count": 20,
      "outputs": []
    },
    {
      "cell_type": "code",
      "metadata": {
        "colab": {
          "base_uri": "https://localhost:8080/"
        },
        "id": "gIrtRem1En3N",
        "outputId": "3b87de6b-888e-4b6f-e396-18ac863db6c7"
      },
      "source": [
        "print(vocab_size)\n",
        "print(word_index['i'])\n",
        "# Expected Output\n",
        "# 138858\n",
        "# 1"
      ],
      "execution_count": 21,
      "outputs": [
        {
          "output_type": "stream",
          "text": [
            "138645\n",
            "1\n"
          ],
          "name": "stdout"
        }
      ]
    },
    {
      "cell_type": "code",
      "metadata": {
        "colab": {
          "base_uri": "https://localhost:8080/"
        },
        "id": "C1zdgJkusRh0",
        "outputId": "31e3f5ad-5ea1-4d59-9390-4cb1810c9dd3"
      },
      "source": [
        "# Note this is the 100 dimension version of GloVe from Stanford\n",
        "# I unzipped and hosted it on my site to make this notebook easier\n",
        "!wget --no-check-certificate \\\n",
        "    https://storage.googleapis.com/laurencemoroney-blog.appspot.com/glove.6B.100d.txt \\\n",
        "    -O /tmp/glove.6B.100d.txt\n",
        "embeddings_index = {};\n",
        "with open('/tmp/glove.6B.100d.txt') as f:\n",
        "    for line in f:\n",
        "        values = line.split();\n",
        "        word = values[0];\n",
        "        coefs = np.asarray(values[1:], dtype='float32');\n",
        "        embeddings_index[word] = coefs;\n",
        "\n",
        "embeddings_matrix = np.zeros((vocab_size+1, embedding_dim));\n",
        "for word, i in word_index.items():\n",
        "    embedding_vector = embeddings_index.get(word);\n",
        "    if embedding_vector is not None:\n",
        "        embeddings_matrix[i] = embedding_vector;"
      ],
      "execution_count": 22,
      "outputs": [
        {
          "output_type": "stream",
          "text": [
            "--2021-01-09 06:00:26--  https://storage.googleapis.com/laurencemoroney-blog.appspot.com/glove.6B.100d.txt\n",
            "Resolving storage.googleapis.com (storage.googleapis.com)... 172.253.115.128, 172.253.122.128, 142.250.31.128, ...\n",
            "Connecting to storage.googleapis.com (storage.googleapis.com)|172.253.115.128|:443... connected.\n",
            "HTTP request sent, awaiting response... 200 OK\n",
            "Length: 347116733 (331M) [text/plain]\n",
            "Saving to: ‘/tmp/glove.6B.100d.txt’\n",
            "\n",
            "/tmp/glove.6B.100d. 100%[===================>] 331.04M   142MB/s    in 2.3s    \n",
            "\n",
            "2021-01-09 06:00:28 (142 MB/s) - ‘/tmp/glove.6B.100d.txt’ saved [347116733/347116733]\n",
            "\n"
          ],
          "name": "stdout"
        }
      ]
    },
    {
      "cell_type": "code",
      "metadata": {
        "colab": {
          "base_uri": "https://localhost:8080/"
        },
        "id": "71NLk_lpFLNt",
        "outputId": "b9b4f1a0-c43e-40a5-eeab-b0915e6c21c0"
      },
      "source": [
        "print(len(embeddings_matrix))\n",
        "# Expected Output\n",
        "# 138859"
      ],
      "execution_count": 23,
      "outputs": [
        {
          "output_type": "stream",
          "text": [
            "138646\n"
          ],
          "name": "stdout"
        }
      ]
    },
    {
      "cell_type": "code",
      "metadata": {
        "colab": {
          "base_uri": "https://localhost:8080/"
        },
        "id": "iKKvbuEBOGFz",
        "outputId": "5648aa38-6717-407f-b64b-f7f871d49821"
      },
      "source": [
        "model = tf.keras.Sequential([\n",
        "    tf.keras.layers.Embedding(vocab_size+1, embedding_dim, input_length=max_length, weights=[embeddings_matrix], trainable=False),\n",
        "    tf.keras.layers.Conv1D(128,5,activation='relu'),\n",
        "    tf.keras.layers.LSTM(32,activation='relu'),\n",
        "    tf.keras.layers.Dense(16, activation='relu'),\n",
        "    tf.keras.layers.Dense(1,activation='sigmoid')\n",
        "    # YOUR CODE HERE - experiment with combining different types, such as convolutions and LSTMs\n",
        "])\n",
        "model.compile(loss='binary_crossentropy',optimizer='adam',metrics=['acc'])\n",
        "model.summary()\n",
        "\n",
        "num_epochs = 50\n",
        "history = model.fit(training_sequences, np.array(training_labels), epochs=num_epochs, validation_data=(test_sequences, np.array(test_labels)), verbose=2)\n",
        "\n",
        "print(\"Training Complete\")\n"
      ],
      "execution_count": 30,
      "outputs": [
        {
          "output_type": "stream",
          "text": [
            "WARNING:tensorflow:Layer lstm_1 will not use cuDNN kernel since it doesn't meet the cuDNN kernel criteria. It will use generic GPU kernel as fallback when running on GPU\n",
            "Model: \"sequential_1\"\n",
            "_________________________________________________________________\n",
            "Layer (type)                 Output Shape              Param #   \n",
            "=================================================================\n",
            "embedding_1 (Embedding)      (None, 16, 100)           13864600  \n",
            "_________________________________________________________________\n",
            "conv1d_1 (Conv1D)            (None, 12, 128)           64128     \n",
            "_________________________________________________________________\n",
            "lstm_1 (LSTM)                (None, 32)                20608     \n",
            "_________________________________________________________________\n",
            "dense_2 (Dense)              (None, 16)                528       \n",
            "_________________________________________________________________\n",
            "dense_3 (Dense)              (None, 1)                 17        \n",
            "=================================================================\n",
            "Total params: 13,949,881\n",
            "Trainable params: 85,281\n",
            "Non-trainable params: 13,864,600\n",
            "_________________________________________________________________\n",
            "Epoch 1/50\n",
            "4500/4500 - 47s - loss: 0.5526 - acc: 0.7107 - val_loss: 0.5405 - val_acc: 0.7216\n",
            "Epoch 2/50\n",
            "4500/4500 - 39s - loss: 0.4972 - acc: 0.7542 - val_loss: 0.5038 - val_acc: 0.7516\n",
            "Epoch 3/50\n",
            "4500/4500 - 39s - loss: 0.4695 - acc: 0.7721 - val_loss: 0.4936 - val_acc: 0.7559\n",
            "Epoch 4/50\n",
            "4500/4500 - 39s - loss: 0.4464 - acc: 0.7863 - val_loss: 0.4954 - val_acc: 0.7536\n",
            "Epoch 5/50\n",
            "4500/4500 - 39s - loss: 0.4222 - acc: 0.8015 - val_loss: 0.5017 - val_acc: 0.7581\n",
            "Epoch 6/50\n",
            "4500/4500 - 39s - loss: 0.3999 - acc: 0.8134 - val_loss: 0.5108 - val_acc: 0.7571\n",
            "Epoch 7/50\n",
            "4500/4500 - 40s - loss: 0.3789 - acc: 0.8246 - val_loss: 0.5325 - val_acc: 0.7534\n",
            "Epoch 8/50\n",
            "4500/4500 - 38s - loss: 0.3585 - acc: 0.8360 - val_loss: 0.5554 - val_acc: 0.7452\n",
            "Epoch 9/50\n",
            "4500/4500 - 39s - loss: 0.3399 - acc: 0.8470 - val_loss: 0.5759 - val_acc: 0.7506\n",
            "Epoch 10/50\n",
            "4500/4500 - 38s - loss: 0.3235 - acc: 0.8541 - val_loss: 0.5924 - val_acc: 0.7432\n",
            "Epoch 11/50\n",
            "4500/4500 - 38s - loss: 0.3076 - acc: 0.8638 - val_loss: 0.6509 - val_acc: 0.7452\n",
            "Epoch 12/50\n",
            "4500/4500 - 41s - loss: 0.2961 - acc: 0.8693 - val_loss: 0.6518 - val_acc: 0.7443\n",
            "Epoch 13/50\n",
            "4500/4500 - 38s - loss: 0.2819 - acc: 0.8765 - val_loss: 0.7050 - val_acc: 0.7362\n",
            "Epoch 14/50\n",
            "4500/4500 - 39s - loss: 0.2709 - acc: 0.8819 - val_loss: 0.6945 - val_acc: 0.7413\n",
            "Epoch 15/50\n",
            "4500/4500 - 39s - loss: 0.2603 - acc: 0.8866 - val_loss: 0.7395 - val_acc: 0.7401\n",
            "Epoch 16/50\n",
            "4500/4500 - 39s - loss: 0.2517 - acc: 0.8913 - val_loss: 0.7339 - val_acc: 0.7363\n",
            "Epoch 17/50\n",
            "4500/4500 - 39s - loss: 0.2436 - acc: 0.8953 - val_loss: 0.7711 - val_acc: 0.7299\n",
            "Epoch 18/50\n",
            "4500/4500 - 38s - loss: 0.2355 - acc: 0.8990 - val_loss: 0.7860 - val_acc: 0.7305\n",
            "Epoch 19/50\n",
            "4500/4500 - 39s - loss: 0.2295 - acc: 0.9014 - val_loss: 0.8648 - val_acc: 0.7298\n",
            "Epoch 20/50\n",
            "4500/4500 - 40s - loss: 0.2208 - acc: 0.9059 - val_loss: 0.9173 - val_acc: 0.7234\n",
            "Epoch 21/50\n",
            "4500/4500 - 39s - loss: 0.2162 - acc: 0.9074 - val_loss: 0.8533 - val_acc: 0.7327\n",
            "Epoch 22/50\n",
            "4500/4500 - 39s - loss: 0.2086 - acc: 0.9115 - val_loss: 0.9390 - val_acc: 0.7324\n",
            "Epoch 23/50\n",
            "4500/4500 - 38s - loss: 0.2050 - acc: 0.9137 - val_loss: 0.8922 - val_acc: 0.7286\n",
            "Epoch 24/50\n",
            "4500/4500 - 39s - loss: 0.1981 - acc: 0.9165 - val_loss: 0.9692 - val_acc: 0.7253\n",
            "Epoch 25/50\n",
            "4500/4500 - 39s - loss: 0.1935 - acc: 0.9182 - val_loss: 0.9368 - val_acc: 0.7276\n",
            "Epoch 26/50\n",
            "4500/4500 - 39s - loss: 0.1899 - acc: 0.9206 - val_loss: 0.9836 - val_acc: 0.7246\n",
            "Epoch 27/50\n",
            "4500/4500 - 39s - loss: 0.1861 - acc: 0.9227 - val_loss: 0.9586 - val_acc: 0.7207\n",
            "Epoch 28/50\n",
            "4500/4500 - 40s - loss: 0.1822 - acc: 0.9250 - val_loss: 1.0772 - val_acc: 0.7223\n",
            "Epoch 29/50\n",
            "4500/4500 - 40s - loss: 0.1785 - acc: 0.9256 - val_loss: 1.0345 - val_acc: 0.7219\n",
            "Epoch 30/50\n",
            "4500/4500 - 39s - loss: 0.1753 - acc: 0.9272 - val_loss: 1.0834 - val_acc: 0.7236\n",
            "Epoch 31/50\n",
            "4500/4500 - 40s - loss: 0.1717 - acc: 0.9289 - val_loss: 1.0509 - val_acc: 0.7221\n",
            "Epoch 32/50\n",
            "4500/4500 - 38s - loss: 0.1713 - acc: 0.9294 - val_loss: 1.0196 - val_acc: 0.7248\n",
            "Epoch 33/50\n",
            "4500/4500 - 39s - loss: 0.1667 - acc: 0.9313 - val_loss: 1.1379 - val_acc: 0.7180\n",
            "Epoch 34/50\n",
            "4500/4500 - 39s - loss: 0.1653 - acc: 0.9320 - val_loss: 1.1615 - val_acc: 0.7189\n",
            "Epoch 35/50\n",
            "4500/4500 - 40s - loss: 0.1611 - acc: 0.9338 - val_loss: 1.0982 - val_acc: 0.7208\n",
            "Epoch 36/50\n",
            "4500/4500 - 39s - loss: 0.1590 - acc: 0.9353 - val_loss: 1.1362 - val_acc: 0.7204\n",
            "Epoch 37/50\n",
            "4500/4500 - 39s - loss: 0.1540 - acc: 0.9370 - val_loss: 1.2262 - val_acc: 0.7204\n",
            "Epoch 38/50\n",
            "4500/4500 - 38s - loss: 0.1530 - acc: 0.9376 - val_loss: 1.1437 - val_acc: 0.7151\n",
            "Epoch 39/50\n",
            "4500/4500 - 39s - loss: 0.1541 - acc: 0.9377 - val_loss: 1.1707 - val_acc: 0.7234\n",
            "Epoch 40/50\n",
            "4500/4500 - 39s - loss: 0.1498 - acc: 0.9390 - val_loss: 1.2042 - val_acc: 0.7171\n",
            "Epoch 41/50\n",
            "4500/4500 - 40s - loss: 0.1456 - acc: 0.9404 - val_loss: 1.2419 - val_acc: 0.7177\n",
            "Epoch 42/50\n",
            "4500/4500 - 39s - loss: 0.1466 - acc: 0.9408 - val_loss: 1.1784 - val_acc: 0.7163\n",
            "Epoch 43/50\n",
            "4500/4500 - 39s - loss: 0.1438 - acc: 0.9420 - val_loss: 1.1616 - val_acc: 0.7181\n",
            "Epoch 44/50\n",
            "4500/4500 - 39s - loss: 0.1419 - acc: 0.9424 - val_loss: 1.1924 - val_acc: 0.7146\n",
            "Epoch 45/50\n",
            "4500/4500 - 39s - loss: 0.1374 - acc: 0.9448 - val_loss: 1.3030 - val_acc: 0.7193\n",
            "Epoch 46/50\n",
            "4500/4500 - 38s - loss: 0.1383 - acc: 0.9445 - val_loss: 1.2006 - val_acc: 0.7150\n",
            "Epoch 47/50\n",
            "4500/4500 - 40s - loss: 0.1374 - acc: 0.9445 - val_loss: 1.2543 - val_acc: 0.7148\n",
            "Epoch 48/50\n",
            "4500/4500 - 38s - loss: 0.1353 - acc: 0.9455 - val_loss: 1.1969 - val_acc: 0.7228\n",
            "Epoch 49/50\n",
            "4500/4500 - 39s - loss: 0.1315 - acc: 0.9478 - val_loss: 1.3108 - val_acc: 0.7188\n",
            "Epoch 50/50\n",
            "4500/4500 - 39s - loss: 0.1336 - acc: 0.9464 - val_loss: 1.2752 - val_acc: 0.7151\n",
            "Training Complete\n"
          ],
          "name": "stdout"
        }
      ]
    },
    {
      "cell_type": "code",
      "metadata": {
        "colab": {
          "base_uri": "https://localhost:8080/",
          "height": 609
        },
        "id": "qxju4ItJKO8F",
        "outputId": "b046deea-86dd-421e-c804-a0951d39605d"
      },
      "source": [
        "import matplotlib.image  as mpimg\n",
        "import matplotlib.pyplot as plt\n",
        "\n",
        "#-----------------------------------------------------------\n",
        "# Retrieve a list of list results on training and test data\n",
        "# sets for each training epoch\n",
        "#-----------------------------------------------------------\n",
        "acc=history.history['acc']\n",
        "val_acc=history.history['val_acc']\n",
        "loss=history.history['loss']\n",
        "val_loss=history.history['val_loss']\n",
        "\n",
        "epochs=range(len(acc)) # Get number of epochs\n",
        "\n",
        "#------------------------------------------------\n",
        "# Plot training and validation acc per epoch\n",
        "#------------------------------------------------\n",
        "plt.plot(epochs, acc, 'r')\n",
        "plt.plot(epochs, val_acc, 'b')\n",
        "plt.title('Training and validation acc')\n",
        "plt.xlabel(\"Epochs\")\n",
        "plt.ylabel(\"acc\")\n",
        "plt.legend([\"acc\", \"Validation acc\"])\n",
        "\n",
        "plt.figure()\n",
        "\n",
        "#------------------------------------------------\n",
        "# Plot training and validation loss per epoch\n",
        "#------------------------------------------------\n",
        "plt.plot(epochs, loss, 'r')\n",
        "plt.plot(epochs, val_loss, 'b')\n",
        "plt.title('Training and validation loss')\n",
        "plt.xlabel(\"Epochs\")\n",
        "plt.ylabel(\"Loss\")\n",
        "plt.legend([\"Loss\", \"Validation Loss\"])\n",
        "\n",
        "plt.figure()\n",
        "\n",
        "\n",
        "# Expected Output\n",
        "# A chart where the validation loss does not increase sharply!"
      ],
      "execution_count": 32,
      "outputs": [
        {
          "output_type": "execute_result",
          "data": {
            "text/plain": [
              "<Figure size 432x288 with 0 Axes>"
            ]
          },
          "metadata": {
            "tags": []
          },
          "execution_count": 32
        },
        {
          "output_type": "display_data",
          "data": {
            "image/png": "[encoded data removed]",
            "text/plain": [
              "<Figure size 432x288 with 1 Axes>"
            ]
          },
          "metadata": {
            "tags": [],
            "needs_background": "light"
          }
        },
        {
          "output_type": "display_data",
          "data": {
            "image/png": "[encoded data removed]",
            "text/plain": [
              "<Figure size 432x288 with 1 Axes>"
            ]
          },
          "metadata": {
            "tags": [],
            "needs_background": "light"
          }
        },
        {
          "output_type": "display_data",
          "data": {
            "text/plain": [
              "<Figure size 432x288 with 0 Axes>"
            ]
          },
          "metadata": {
            "tags": []
          }
        }
      ]
    },
    {
      "cell_type": "code",
      "metadata": {
        "id": "Qtzl3nD13e0-"
      },
      "source": [
        ""
      ],
      "execution_count": null,
      "outputs": []
    }
  ]
}